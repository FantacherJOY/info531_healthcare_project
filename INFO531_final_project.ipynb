{
 "cells": [
  {
   "cell_type": "code",
   "execution_count": 56,
   "id": "2e02ce38-36c7-4da0-8d6f-adebcd284312",
   "metadata": {},
   "outputs": [],
   "source": [
    "import pandas as pd\n",
    "import re\n",
    "import seaborn as sns"
   ]
  },
  {
   "cell_type": "code",
   "execution_count": 87,
   "id": "cbad7f3d",
   "metadata": {},
   "outputs": [],
   "source": [
    "# Loading the dataset\n",
    "df = pd.read_csv(\"healthcare_dataset.csv\")"
   ]
  },
  {
   "cell_type": "code",
   "execution_count": 88,
   "id": "ad843a08-2166-4ae9-8017-ae92d65f4607",
   "metadata": {},
   "outputs": [],
   "source": [
    "# Normalizing the 0NF hospital names\n",
    "df['Hospital'] = df['Hospital'].astype(str).str.strip().str.title()\n",
    "df['Hospital_cleaned'] = df['Hospital'].str.replace(r',\\s*', '|', regex=True)\n",
    "df['Hospital_cleaned'] = df['Hospital_cleaned'].str.replace(r'\\band\\b', '|', regex=True, flags=re.IGNORECASE)\n",
    "df['Hospital_cleaned'] = df['Hospital_cleaned'].str.replace(r'\\|+', '|', regex=True)\n",
    "df1NF = df.assign(Hospital=df['Hospital_cleaned'].str.split(r'\\|')).explode('Hospital')\n",
    "df1NF['Hospital'] = df1NF['Hospital'].str.strip()\n",
    "df1NF = df1NF[df1NF['Hospital'].str.lower() != 'and']\n",
    "df1NF = df1NF[df1NF['Hospital'] != '']\n",
    "\n",
    "# Spliting Patinet Name' into First and Last\n",
    "df1NF[['First_Name', 'Last_Name']] = df1NF['Name'].str.strip().str.split(' ', 1, expand=True)\n",
    "# Spliting 'Doctor' into First and Last\n",
    "df1NF[['Doctor_First_Name', 'Doctor_Last_Name']] = df1NF['Doctor'].str.strip().str.split(' ', 1, expand=True)"
   ]
  },
  {
   "cell_type": "code",
   "execution_count": 89,
   "id": "dbb2bb4b",
   "metadata": {},
   "outputs": [],
   "source": [
    "df1NF = df1NF[['PatientID', 'First_Name', 'Last_Name', 'Age', 'Gender', 'Blood Type', 'Medical Condition',\n",
    "       'Date of Admission', 'Doctor_First_Name', 'Doctor_Last_Name', 'Hospital', 'Insurance Provider',\n",
    "       'Billing Amount', 'Room Number', 'Admission Type', 'Discharge Date', 'Medication', 'Test Results']]"
   ]
  },
  {
   "cell_type": "code",
   "execution_count": 109,
   "id": "db3ba2ae",
   "metadata": {},
   "outputs": [
    {
     "data": {
      "text/html": [
       "<div>\n",
       "<style scoped>\n",
       "    .dataframe tbody tr th:only-of-type {\n",
       "        vertical-align: middle;\n",
       "    }\n",
       "\n",
       "    .dataframe tbody tr th {\n",
       "        vertical-align: top;\n",
       "    }\n",
       "\n",
       "    .dataframe thead th {\n",
       "        text-align: right;\n",
       "    }\n",
       "</style>\n",
       "<table border=\"1\" class=\"dataframe\">\n",
       "  <thead>\n",
       "    <tr style=\"text-align: right;\">\n",
       "      <th></th>\n",
       "      <th>PatientID</th>\n",
       "      <th>First_Name</th>\n",
       "      <th>Last_Name</th>\n",
       "      <th>Age</th>\n",
       "      <th>Gender</th>\n",
       "      <th>Blood Type</th>\n",
       "      <th>Medical Condition</th>\n",
       "      <th>Date of Admission</th>\n",
       "      <th>Doctor_First_Name</th>\n",
       "      <th>Doctor_Last_Name</th>\n",
       "      <th>Hospital</th>\n",
       "      <th>Insurance Provider</th>\n",
       "      <th>Billing Amount</th>\n",
       "      <th>Room Number</th>\n",
       "      <th>Admission Type</th>\n",
       "      <th>Discharge Date</th>\n",
       "      <th>Medication</th>\n",
       "      <th>Test Results</th>\n",
       "    </tr>\n",
       "  </thead>\n",
       "  <tbody>\n",
       "    <tr>\n",
       "      <th>0</th>\n",
       "      <td>101</td>\n",
       "      <td>Bobby</td>\n",
       "      <td>JacksOn</td>\n",
       "      <td>30</td>\n",
       "      <td>Male</td>\n",
       "      <td>B-</td>\n",
       "      <td>Cancer</td>\n",
       "      <td>1/31/2024</td>\n",
       "      <td>Matthew</td>\n",
       "      <td>Smith</td>\n",
       "      <td>Sons</td>\n",
       "      <td>Blue Cross</td>\n",
       "      <td>18856.28131</td>\n",
       "      <td>328</td>\n",
       "      <td>Urgent</td>\n",
       "      <td>2/2/2024</td>\n",
       "      <td>Paracetamol</td>\n",
       "      <td>Normal</td>\n",
       "    </tr>\n",
       "    <tr>\n",
       "      <th>0</th>\n",
       "      <td>101</td>\n",
       "      <td>Bobby</td>\n",
       "      <td>JacksOn</td>\n",
       "      <td>30</td>\n",
       "      <td>Male</td>\n",
       "      <td>B-</td>\n",
       "      <td>Cancer</td>\n",
       "      <td>1/31/2024</td>\n",
       "      <td>Matthew</td>\n",
       "      <td>Smith</td>\n",
       "      <td>Miller</td>\n",
       "      <td>Blue Cross</td>\n",
       "      <td>18856.28131</td>\n",
       "      <td>328</td>\n",
       "      <td>Urgent</td>\n",
       "      <td>2/2/2024</td>\n",
       "      <td>Paracetamol</td>\n",
       "      <td>Normal</td>\n",
       "    </tr>\n",
       "    <tr>\n",
       "      <th>1</th>\n",
       "      <td>102</td>\n",
       "      <td>LesLie</td>\n",
       "      <td>TErRy</td>\n",
       "      <td>62</td>\n",
       "      <td>Male</td>\n",
       "      <td>A+</td>\n",
       "      <td>Obesity</td>\n",
       "      <td>8/20/2019</td>\n",
       "      <td>Samantha</td>\n",
       "      <td>Davies</td>\n",
       "      <td>Kim Inc</td>\n",
       "      <td>Medicare</td>\n",
       "      <td>33643.32729</td>\n",
       "      <td>265</td>\n",
       "      <td>Emergency</td>\n",
       "      <td>8/26/2019</td>\n",
       "      <td>Ibuprofen</td>\n",
       "      <td>Inconclusive</td>\n",
       "    </tr>\n",
       "    <tr>\n",
       "      <th>2</th>\n",
       "      <td>103</td>\n",
       "      <td>DaNnY</td>\n",
       "      <td>sMitH</td>\n",
       "      <td>76</td>\n",
       "      <td>Female</td>\n",
       "      <td>A-</td>\n",
       "      <td>Obesity</td>\n",
       "      <td>9/22/2022</td>\n",
       "      <td>Tiffany</td>\n",
       "      <td>Mitchell</td>\n",
       "      <td>Cook Plc</td>\n",
       "      <td>Aetna</td>\n",
       "      <td>27955.09608</td>\n",
       "      <td>205</td>\n",
       "      <td>Emergency</td>\n",
       "      <td>10/7/2022</td>\n",
       "      <td>Aspirin</td>\n",
       "      <td>Normal</td>\n",
       "    </tr>\n",
       "    <tr>\n",
       "      <th>3</th>\n",
       "      <td>104</td>\n",
       "      <td>andrEw</td>\n",
       "      <td>waTtS</td>\n",
       "      <td>28</td>\n",
       "      <td>Female</td>\n",
       "      <td>O+</td>\n",
       "      <td>Diabetes</td>\n",
       "      <td>11/18/2020</td>\n",
       "      <td>Kevin</td>\n",
       "      <td>Wells</td>\n",
       "      <td>Hernandez Rogers</td>\n",
       "      <td>Medicare</td>\n",
       "      <td>37909.78241</td>\n",
       "      <td>450</td>\n",
       "      <td>Elective</td>\n",
       "      <td>12/18/2020</td>\n",
       "      <td>Ibuprofen</td>\n",
       "      <td>Abnormal</td>\n",
       "    </tr>\n",
       "  </tbody>\n",
       "</table>\n",
       "</div>"
      ],
      "text/plain": [
       "   PatientID First_Name Last_Name  Age  Gender Blood Type Medical Condition  \\\n",
       "0        101      Bobby   JacksOn   30    Male         B-            Cancer   \n",
       "0        101      Bobby   JacksOn   30    Male         B-            Cancer   \n",
       "1        102     LesLie     TErRy   62    Male         A+           Obesity   \n",
       "2        103      DaNnY     sMitH   76  Female         A-           Obesity   \n",
       "3        104     andrEw     waTtS   28  Female         O+          Diabetes   \n",
       "\n",
       "  Date of Admission Doctor_First_Name Doctor_Last_Name          Hospital  \\\n",
       "0         1/31/2024           Matthew            Smith              Sons   \n",
       "0         1/31/2024           Matthew            Smith            Miller   \n",
       "1         8/20/2019          Samantha           Davies           Kim Inc   \n",
       "2         9/22/2022           Tiffany         Mitchell          Cook Plc   \n",
       "3        11/18/2020             Kevin            Wells  Hernandez Rogers   \n",
       "\n",
       "  Insurance Provider  Billing Amount  Room Number Admission Type  \\\n",
       "0         Blue Cross     18856.28131          328         Urgent   \n",
       "0         Blue Cross     18856.28131          328         Urgent   \n",
       "1           Medicare     33643.32729          265      Emergency   \n",
       "2              Aetna     27955.09608          205      Emergency   \n",
       "3           Medicare     37909.78241          450       Elective   \n",
       "\n",
       "  Discharge Date   Medication  Test Results  \n",
       "0       2/2/2024  Paracetamol        Normal  \n",
       "0       2/2/2024  Paracetamol        Normal  \n",
       "1      8/26/2019    Ibuprofen  Inconclusive  \n",
       "2      10/7/2022      Aspirin        Normal  \n",
       "3     12/18/2020    Ibuprofen      Abnormal  "
      ]
     },
     "execution_count": 109,
     "metadata": {},
     "output_type": "execute_result"
    }
   ],
   "source": [
    "df1NF.head()\n",
    "# df1NF = pd.read_csv(\"final_hospital_column_1NF.csv\")"
   ]
  },
  {
   "cell_type": "code",
   "execution_count": 110,
   "id": "f46db065",
   "metadata": {},
   "outputs": [
    {
     "name": "stdout",
     "output_type": "stream",
     "text": [
      "<class 'pandas.core.frame.DataFrame'>\n",
      "Int64Index: 75027 entries, 0 to 55499\n",
      "Data columns (total 18 columns):\n",
      " #   Column              Non-Null Count  Dtype  \n",
      "---  ------              --------------  -----  \n",
      " 0   PatientID           75027 non-null  int64  \n",
      " 1   First_Name          75027 non-null  object \n",
      " 2   Last_Name           75027 non-null  object \n",
      " 3   Age                 75027 non-null  int64  \n",
      " 4   Gender              75027 non-null  object \n",
      " 5   Blood Type          75027 non-null  object \n",
      " 6   Medical Condition   75027 non-null  object \n",
      " 7   Date of Admission   75027 non-null  object \n",
      " 8   Doctor_First_Name   75027 non-null  object \n",
      " 9   Doctor_Last_Name    75027 non-null  object \n",
      " 10  Hospital            75027 non-null  object \n",
      " 11  Insurance Provider  75027 non-null  object \n",
      " 12  Billing Amount      75027 non-null  float64\n",
      " 13  Room Number         75027 non-null  int64  \n",
      " 14  Admission Type      75027 non-null  object \n",
      " 15  Discharge Date      75027 non-null  object \n",
      " 16  Medication          75027 non-null  object \n",
      " 17  Test Results        75027 non-null  object \n",
      "dtypes: float64(1), int64(3), object(14)\n",
      "memory usage: 10.9+ MB\n"
     ]
    }
   ],
   "source": [
    "df1NF.info()"
   ]
  },
  {
   "cell_type": "code",
   "execution_count": 111,
   "id": "29d40b2d",
   "metadata": {},
   "outputs": [
    {
     "data": {
      "text/html": [
       "<div>\n",
       "<style scoped>\n",
       "    .dataframe tbody tr th:only-of-type {\n",
       "        vertical-align: middle;\n",
       "    }\n",
       "\n",
       "    .dataframe tbody tr th {\n",
       "        vertical-align: top;\n",
       "    }\n",
       "\n",
       "    .dataframe thead th {\n",
       "        text-align: right;\n",
       "    }\n",
       "</style>\n",
       "<table border=\"1\" class=\"dataframe\">\n",
       "  <thead>\n",
       "    <tr style=\"text-align: right;\">\n",
       "      <th></th>\n",
       "      <th>PatientID</th>\n",
       "      <th>First_Name</th>\n",
       "      <th>Last_Name</th>\n",
       "      <th>Age</th>\n",
       "      <th>Gender</th>\n",
       "      <th>Blood Type</th>\n",
       "      <th>Medical Condition</th>\n",
       "    </tr>\n",
       "  </thead>\n",
       "  <tbody>\n",
       "    <tr>\n",
       "      <th>0</th>\n",
       "      <td>101</td>\n",
       "      <td>Bobby</td>\n",
       "      <td>JacksOn</td>\n",
       "      <td>30</td>\n",
       "      <td>Male</td>\n",
       "      <td>B-</td>\n",
       "      <td>Cancer</td>\n",
       "    </tr>\n",
       "    <tr>\n",
       "      <th>1</th>\n",
       "      <td>102</td>\n",
       "      <td>LesLie</td>\n",
       "      <td>TErRy</td>\n",
       "      <td>62</td>\n",
       "      <td>Male</td>\n",
       "      <td>A+</td>\n",
       "      <td>Obesity</td>\n",
       "    </tr>\n",
       "    <tr>\n",
       "      <th>2</th>\n",
       "      <td>103</td>\n",
       "      <td>DaNnY</td>\n",
       "      <td>sMitH</td>\n",
       "      <td>76</td>\n",
       "      <td>Female</td>\n",
       "      <td>A-</td>\n",
       "      <td>Obesity</td>\n",
       "    </tr>\n",
       "    <tr>\n",
       "      <th>3</th>\n",
       "      <td>104</td>\n",
       "      <td>andrEw</td>\n",
       "      <td>waTtS</td>\n",
       "      <td>28</td>\n",
       "      <td>Female</td>\n",
       "      <td>O+</td>\n",
       "      <td>Diabetes</td>\n",
       "    </tr>\n",
       "    <tr>\n",
       "      <th>4</th>\n",
       "      <td>105</td>\n",
       "      <td>adrIENNE</td>\n",
       "      <td>bEll</td>\n",
       "      <td>43</td>\n",
       "      <td>Female</td>\n",
       "      <td>AB+</td>\n",
       "      <td>Cancer</td>\n",
       "    </tr>\n",
       "  </tbody>\n",
       "</table>\n",
       "</div>"
      ],
      "text/plain": [
       "   PatientID First_Name Last_Name  Age  Gender Blood Type Medical Condition\n",
       "0        101      Bobby   JacksOn   30    Male         B-            Cancer\n",
       "1        102     LesLie     TErRy   62    Male         A+           Obesity\n",
       "2        103      DaNnY     sMitH   76  Female         A-           Obesity\n",
       "3        104     andrEw     waTtS   28  Female         O+          Diabetes\n",
       "4        105   adrIENNE      bEll   43  Female        AB+            Cancer"
      ]
     },
     "execution_count": 111,
     "metadata": {},
     "output_type": "execute_result"
    }
   ],
   "source": [
    "patient_df = df1NF[['PatientID', 'First_Name', 'Last_Name', 'Age', 'Gender', 'Blood Type', 'Medical Condition']].drop_duplicates()\n",
    "patient_df.to_csv(\"patient_3NF.csv\", index=False)\n",
    "patient_df.head()"
   ]
  },
  {
   "cell_type": "code",
   "execution_count": 112,
   "id": "dc2161f7",
   "metadata": {},
   "outputs": [
    {
     "data": {
      "text/plain": [
       "(55500, 7)"
      ]
     },
     "execution_count": 112,
     "metadata": {},
     "output_type": "execute_result"
    }
   ],
   "source": [
    "patient_df.shape"
   ]
  },
  {
   "cell_type": "code",
   "execution_count": 113,
   "id": "e18b8e54",
   "metadata": {},
   "outputs": [
    {
     "data": {
      "text/html": [
       "<div>\n",
       "<style scoped>\n",
       "    .dataframe tbody tr th:only-of-type {\n",
       "        vertical-align: middle;\n",
       "    }\n",
       "\n",
       "    .dataframe tbody tr th {\n",
       "        vertical-align: top;\n",
       "    }\n",
       "\n",
       "    .dataframe thead th {\n",
       "        text-align: right;\n",
       "    }\n",
       "</style>\n",
       "<table border=\"1\" class=\"dataframe\">\n",
       "  <thead>\n",
       "    <tr style=\"text-align: right;\">\n",
       "      <th></th>\n",
       "      <th>HospitalID</th>\n",
       "      <th>Hospital</th>\n",
       "    </tr>\n",
       "  </thead>\n",
       "  <tbody>\n",
       "    <tr>\n",
       "      <th>0</th>\n",
       "      <td>200001</td>\n",
       "      <td>Sons</td>\n",
       "    </tr>\n",
       "    <tr>\n",
       "      <th>1</th>\n",
       "      <td>200002</td>\n",
       "      <td>Miller</td>\n",
       "    </tr>\n",
       "    <tr>\n",
       "      <th>2</th>\n",
       "      <td>200003</td>\n",
       "      <td>Kim Inc</td>\n",
       "    </tr>\n",
       "    <tr>\n",
       "      <th>3</th>\n",
       "      <td>200004</td>\n",
       "      <td>Cook Plc</td>\n",
       "    </tr>\n",
       "    <tr>\n",
       "      <th>4</th>\n",
       "      <td>200005</td>\n",
       "      <td>Hernandez Rogers</td>\n",
       "    </tr>\n",
       "  </tbody>\n",
       "</table>\n",
       "</div>"
      ],
      "text/plain": [
       "   HospitalID          Hospital\n",
       "0      200001              Sons\n",
       "1      200002            Miller\n",
       "2      200003           Kim Inc\n",
       "3      200004          Cook Plc\n",
       "4      200005  Hernandez Rogers"
      ]
     },
     "execution_count": 113,
     "metadata": {},
     "output_type": "execute_result"
    }
   ],
   "source": [
    "hospital_df = df1NF[['Hospital']].drop_duplicates().reset_index(drop=True)\n",
    "hospital_df['HospitalID'] = 200001 + hospital_df.index\n",
    "hospital_df = hospital_df[['HospitalID', 'Hospital']]\n",
    "hospital_df.to_csv(\"hospital_3NF.csv\", index=False)\n",
    "hospital_df.head()"
   ]
  },
  {
   "cell_type": "code",
   "execution_count": 114,
   "id": "127c9515",
   "metadata": {},
   "outputs": [
    {
     "data": {
      "text/plain": [
       "(36751, 2)"
      ]
     },
     "execution_count": 114,
     "metadata": {},
     "output_type": "execute_result"
    }
   ],
   "source": [
    "hospital_df.shape"
   ]
  },
  {
   "cell_type": "code",
   "execution_count": 128,
   "id": "aad9b9a7",
   "metadata": {},
   "outputs": [
    {
     "data": {
      "text/html": [
       "<div>\n",
       "<style scoped>\n",
       "    .dataframe tbody tr th:only-of-type {\n",
       "        vertical-align: middle;\n",
       "    }\n",
       "\n",
       "    .dataframe tbody tr th {\n",
       "        vertical-align: top;\n",
       "    }\n",
       "\n",
       "    .dataframe thead th {\n",
       "        text-align: right;\n",
       "    }\n",
       "</style>\n",
       "<table border=\"1\" class=\"dataframe\">\n",
       "  <thead>\n",
       "    <tr style=\"text-align: right;\">\n",
       "      <th></th>\n",
       "      <th>DoctorID</th>\n",
       "      <th>Doctor_First_Name</th>\n",
       "      <th>Doctor_Last_Name</th>\n",
       "    </tr>\n",
       "  </thead>\n",
       "  <tbody>\n",
       "    <tr>\n",
       "      <th>0</th>\n",
       "      <td>300001</td>\n",
       "      <td>Matthew</td>\n",
       "      <td>Smith</td>\n",
       "    </tr>\n",
       "    <tr>\n",
       "      <th>1</th>\n",
       "      <td>300002</td>\n",
       "      <td>Samantha</td>\n",
       "      <td>Davies</td>\n",
       "    </tr>\n",
       "    <tr>\n",
       "      <th>2</th>\n",
       "      <td>300003</td>\n",
       "      <td>Tiffany</td>\n",
       "      <td>Mitchell</td>\n",
       "    </tr>\n",
       "    <tr>\n",
       "      <th>3</th>\n",
       "      <td>300004</td>\n",
       "      <td>Kevin</td>\n",
       "      <td>Wells</td>\n",
       "    </tr>\n",
       "    <tr>\n",
       "      <th>4</th>\n",
       "      <td>300005</td>\n",
       "      <td>Kathleen</td>\n",
       "      <td>Hanna</td>\n",
       "    </tr>\n",
       "  </tbody>\n",
       "</table>\n",
       "</div>"
      ],
      "text/plain": [
       "   DoctorID Doctor_First_Name Doctor_Last_Name\n",
       "0    300001           Matthew            Smith\n",
       "1    300002          Samantha           Davies\n",
       "2    300003           Tiffany         Mitchell\n",
       "3    300004             Kevin            Wells\n",
       "4    300005          Kathleen            Hanna"
      ]
     },
     "execution_count": 128,
     "metadata": {},
     "output_type": "execute_result"
    }
   ],
   "source": [
    "doctor_df = df1NF[['Doctor_First_Name', 'Doctor_Last_Name']].drop_duplicates().reset_index(drop=True)\n",
    "doctor_df['DoctorID'] = 300001 + doctor_df.index\n",
    "doctor_df = doctor_df[['DoctorID', 'Doctor_First_Name', 'Doctor_Last_Name']]\n",
    "doctor_df.to_csv(\"doctor_3NF.csv\", index=False)\n",
    "doctor_df.head()"
   ]
  },
  {
   "cell_type": "code",
   "execution_count": 117,
   "id": "e55ae67c",
   "metadata": {},
   "outputs": [
    {
     "data": {
      "text/plain": [
       "(40341, 3)"
      ]
     },
     "execution_count": 117,
     "metadata": {},
     "output_type": "execute_result"
    }
   ],
   "source": [
    "doctor_df.shape"
   ]
  },
  {
   "cell_type": "code",
   "execution_count": 118,
   "id": "534a5767",
   "metadata": {},
   "outputs": [
    {
     "data": {
      "text/html": [
       "<div>\n",
       "<style scoped>\n",
       "    .dataframe tbody tr th:only-of-type {\n",
       "        vertical-align: middle;\n",
       "    }\n",
       "\n",
       "    .dataframe tbody tr th {\n",
       "        vertical-align: top;\n",
       "    }\n",
       "\n",
       "    .dataframe thead th {\n",
       "        text-align: right;\n",
       "    }\n",
       "</style>\n",
       "<table border=\"1\" class=\"dataframe\">\n",
       "  <thead>\n",
       "    <tr style=\"text-align: right;\">\n",
       "      <th></th>\n",
       "      <th>InsuranceID</th>\n",
       "      <th>Insurance Provider</th>\n",
       "    </tr>\n",
       "  </thead>\n",
       "  <tbody>\n",
       "    <tr>\n",
       "      <th>0</th>\n",
       "      <td>I1</td>\n",
       "      <td>Blue Cross</td>\n",
       "    </tr>\n",
       "    <tr>\n",
       "      <th>1</th>\n",
       "      <td>I2</td>\n",
       "      <td>Medicare</td>\n",
       "    </tr>\n",
       "    <tr>\n",
       "      <th>2</th>\n",
       "      <td>I3</td>\n",
       "      <td>Aetna</td>\n",
       "    </tr>\n",
       "    <tr>\n",
       "      <th>3</th>\n",
       "      <td>I4</td>\n",
       "      <td>UnitedHealthcare</td>\n",
       "    </tr>\n",
       "    <tr>\n",
       "      <th>4</th>\n",
       "      <td>I5</td>\n",
       "      <td>Cigna</td>\n",
       "    </tr>\n",
       "  </tbody>\n",
       "</table>\n",
       "</div>"
      ],
      "text/plain": [
       "  InsuranceID Insurance Provider\n",
       "0          I1         Blue Cross\n",
       "1          I2           Medicare\n",
       "2          I3              Aetna\n",
       "3          I4   UnitedHealthcare\n",
       "4          I5              Cigna"
      ]
     },
     "execution_count": 118,
     "metadata": {},
     "output_type": "execute_result"
    }
   ],
   "source": [
    "insurance_df = df1NF[['Insurance Provider']].drop_duplicates().reset_index(drop=True)\n",
    "insurance_df['InsuranceID'] = 'I' + (insurance_df.index + 1).astype(str)\n",
    "insurance_df = insurance_df[['InsuranceID', 'Insurance Provider']]\n",
    "insurance_df.to_csv(\"insurance_3NF.csv\", index=False)\n",
    "insurance_df"
   ]
  },
  {
   "cell_type": "code",
   "execution_count": 119,
   "id": "925af5e9",
   "metadata": {},
   "outputs": [
    {
     "data": {
      "text/plain": [
       "(5, 2)"
      ]
     },
     "execution_count": 119,
     "metadata": {},
     "output_type": "execute_result"
    }
   ],
   "source": [
    "insurance_df.shape"
   ]
  },
  {
   "cell_type": "code",
   "execution_count": 120,
   "id": "e7cb4a71",
   "metadata": {},
   "outputs": [
    {
     "data": {
      "text/html": [
       "<div>\n",
       "<style scoped>\n",
       "    .dataframe tbody tr th:only-of-type {\n",
       "        vertical-align: middle;\n",
       "    }\n",
       "\n",
       "    .dataframe tbody tr th {\n",
       "        vertical-align: top;\n",
       "    }\n",
       "\n",
       "    .dataframe thead th {\n",
       "        text-align: right;\n",
       "    }\n",
       "</style>\n",
       "<table border=\"1\" class=\"dataframe\">\n",
       "  <thead>\n",
       "    <tr style=\"text-align: right;\">\n",
       "      <th></th>\n",
       "      <th>MedicationID</th>\n",
       "      <th>Medication</th>\n",
       "    </tr>\n",
       "  </thead>\n",
       "  <tbody>\n",
       "    <tr>\n",
       "      <th>0</th>\n",
       "      <td>M1</td>\n",
       "      <td>Paracetamol</td>\n",
       "    </tr>\n",
       "    <tr>\n",
       "      <th>1</th>\n",
       "      <td>M2</td>\n",
       "      <td>Ibuprofen</td>\n",
       "    </tr>\n",
       "    <tr>\n",
       "      <th>2</th>\n",
       "      <td>M3</td>\n",
       "      <td>Aspirin</td>\n",
       "    </tr>\n",
       "    <tr>\n",
       "      <th>3</th>\n",
       "      <td>M4</td>\n",
       "      <td>Penicillin</td>\n",
       "    </tr>\n",
       "    <tr>\n",
       "      <th>4</th>\n",
       "      <td>M5</td>\n",
       "      <td>Lipitor</td>\n",
       "    </tr>\n",
       "  </tbody>\n",
       "</table>\n",
       "</div>"
      ],
      "text/plain": [
       "  MedicationID   Medication\n",
       "0           M1  Paracetamol\n",
       "1           M2    Ibuprofen\n",
       "2           M3      Aspirin\n",
       "3           M4   Penicillin\n",
       "4           M5      Lipitor"
      ]
     },
     "execution_count": 120,
     "metadata": {},
     "output_type": "execute_result"
    }
   ],
   "source": [
    "medication_df = df1NF[['Medication']].drop_duplicates().reset_index(drop=True)\n",
    "medication_df['MedicationID'] = 'M' + (medication_df.index + 1).astype(str)\n",
    "medication_df = medication_df[['MedicationID', 'Medication']]\n",
    "medication_df.to_csv(\"medication_3NF.csv\", index=False)\n",
    "medication_df.head()"
   ]
  },
  {
   "cell_type": "code",
   "execution_count": 121,
   "id": "d2bdbff0",
   "metadata": {},
   "outputs": [
    {
     "data": {
      "text/plain": [
       "(5, 2)"
      ]
     },
     "execution_count": 121,
     "metadata": {},
     "output_type": "execute_result"
    }
   ],
   "source": [
    "medication_df.shape"
   ]
  },
  {
   "cell_type": "code",
   "execution_count": 122,
   "id": "42ed82c0",
   "metadata": {},
   "outputs": [
    {
     "data": {
      "text/html": [
       "<div>\n",
       "<style scoped>\n",
       "    .dataframe tbody tr th:only-of-type {\n",
       "        vertical-align: middle;\n",
       "    }\n",
       "\n",
       "    .dataframe tbody tr th {\n",
       "        vertical-align: top;\n",
       "    }\n",
       "\n",
       "    .dataframe thead th {\n",
       "        text-align: right;\n",
       "    }\n",
       "</style>\n",
       "<table border=\"1\" class=\"dataframe\">\n",
       "  <thead>\n",
       "    <tr style=\"text-align: right;\">\n",
       "      <th></th>\n",
       "      <th>PatientID</th>\n",
       "      <th>HospitalID</th>\n",
       "      <th>Date of Admission</th>\n",
       "      <th>Discharge Date</th>\n",
       "      <th>Room Number</th>\n",
       "      <th>Admission Type</th>\n",
       "      <th>Billing Amount</th>\n",
       "    </tr>\n",
       "  </thead>\n",
       "  <tbody>\n",
       "    <tr>\n",
       "      <th>0</th>\n",
       "      <td>101</td>\n",
       "      <td>200001</td>\n",
       "      <td>1/31/2024</td>\n",
       "      <td>2/2/2024</td>\n",
       "      <td>328</td>\n",
       "      <td>Urgent</td>\n",
       "      <td>18856.28131</td>\n",
       "    </tr>\n",
       "    <tr>\n",
       "      <th>1</th>\n",
       "      <td>101</td>\n",
       "      <td>200002</td>\n",
       "      <td>1/31/2024</td>\n",
       "      <td>2/2/2024</td>\n",
       "      <td>328</td>\n",
       "      <td>Urgent</td>\n",
       "      <td>18856.28131</td>\n",
       "    </tr>\n",
       "    <tr>\n",
       "      <th>2</th>\n",
       "      <td>102</td>\n",
       "      <td>200003</td>\n",
       "      <td>8/20/2019</td>\n",
       "      <td>8/26/2019</td>\n",
       "      <td>265</td>\n",
       "      <td>Emergency</td>\n",
       "      <td>33643.32729</td>\n",
       "    </tr>\n",
       "    <tr>\n",
       "      <th>3</th>\n",
       "      <td>103</td>\n",
       "      <td>200004</td>\n",
       "      <td>9/22/2022</td>\n",
       "      <td>10/7/2022</td>\n",
       "      <td>205</td>\n",
       "      <td>Emergency</td>\n",
       "      <td>27955.09608</td>\n",
       "    </tr>\n",
       "    <tr>\n",
       "      <th>4</th>\n",
       "      <td>104</td>\n",
       "      <td>200005</td>\n",
       "      <td>11/18/2020</td>\n",
       "      <td>12/18/2020</td>\n",
       "      <td>450</td>\n",
       "      <td>Elective</td>\n",
       "      <td>37909.78241</td>\n",
       "    </tr>\n",
       "  </tbody>\n",
       "</table>\n",
       "</div>"
      ],
      "text/plain": [
       "   PatientID  HospitalID Date of Admission Discharge Date  Room Number  \\\n",
       "0        101      200001         1/31/2024       2/2/2024          328   \n",
       "1        101      200002         1/31/2024       2/2/2024          328   \n",
       "2        102      200003         8/20/2019      8/26/2019          265   \n",
       "3        103      200004         9/22/2022      10/7/2022          205   \n",
       "4        104      200005        11/18/2020     12/18/2020          450   \n",
       "\n",
       "  Admission Type  Billing Amount  \n",
       "0         Urgent     18856.28131  \n",
       "1         Urgent     18856.28131  \n",
       "2      Emergency     33643.32729  \n",
       "3      Emergency     27955.09608  \n",
       "4       Elective     37909.78241  "
      ]
     },
     "execution_count": 122,
     "metadata": {},
     "output_type": "execute_result"
    }
   ],
   "source": [
    "patient_hospital_df = df1NF[['PatientID', 'Hospital', 'Date of Admission', 'Discharge Date', 'Room Number', 'Admission Type', 'Billing Amount']].drop_duplicates()\n",
    "patient_hospital_df = patient_hospital_df.merge(hospital_df, on='Hospital', how='left')\n",
    "patient_hospital_df = patient_hospital_df[['PatientID', 'HospitalID', 'Date of Admission', 'Discharge Date', 'Room Number', 'Admission Type', 'Billing Amount']]\n",
    "patient_hospital_df.to_csv(\"patient_hospital_3NF.csv\", index=False)\n",
    "patient_hospital_df.head()"
   ]
  },
  {
   "cell_type": "code",
   "execution_count": 123,
   "id": "d602c045",
   "metadata": {},
   "outputs": [
    {
     "data": {
      "text/plain": [
       "(74990, 7)"
      ]
     },
     "execution_count": 123,
     "metadata": {},
     "output_type": "execute_result"
    }
   ],
   "source": [
    "patient_hospital_df.shape"
   ]
  },
  {
   "cell_type": "code",
   "execution_count": 124,
   "id": "60728cc0",
   "metadata": {},
   "outputs": [
    {
     "data": {
      "text/html": [
       "<div>\n",
       "<style scoped>\n",
       "    .dataframe tbody tr th:only-of-type {\n",
       "        vertical-align: middle;\n",
       "    }\n",
       "\n",
       "    .dataframe tbody tr th {\n",
       "        vertical-align: top;\n",
       "    }\n",
       "\n",
       "    .dataframe thead th {\n",
       "        text-align: right;\n",
       "    }\n",
       "</style>\n",
       "<table border=\"1\" class=\"dataframe\">\n",
       "  <thead>\n",
       "    <tr style=\"text-align: right;\">\n",
       "      <th></th>\n",
       "      <th>PatientID</th>\n",
       "      <th>DoctorID</th>\n",
       "    </tr>\n",
       "  </thead>\n",
       "  <tbody>\n",
       "    <tr>\n",
       "      <th>0</th>\n",
       "      <td>101</td>\n",
       "      <td>300001</td>\n",
       "    </tr>\n",
       "    <tr>\n",
       "      <th>1</th>\n",
       "      <td>102</td>\n",
       "      <td>300002</td>\n",
       "    </tr>\n",
       "    <tr>\n",
       "      <th>2</th>\n",
       "      <td>103</td>\n",
       "      <td>300003</td>\n",
       "    </tr>\n",
       "    <tr>\n",
       "      <th>3</th>\n",
       "      <td>104</td>\n",
       "      <td>300004</td>\n",
       "    </tr>\n",
       "    <tr>\n",
       "      <th>4</th>\n",
       "      <td>105</td>\n",
       "      <td>300005</td>\n",
       "    </tr>\n",
       "  </tbody>\n",
       "</table>\n",
       "</div>"
      ],
      "text/plain": [
       "   PatientID  DoctorID\n",
       "0        101    300001\n",
       "1        102    300002\n",
       "2        103    300003\n",
       "3        104    300004\n",
       "4        105    300005"
      ]
     },
     "execution_count": 124,
     "metadata": {},
     "output_type": "execute_result"
    }
   ],
   "source": [
    "patient_doctor_df = df1NF[['PatientID', 'Doctor_First_Name', 'Doctor_Last_Name']].drop_duplicates()\n",
    "patient_doctor_df = patient_doctor_df.merge(doctor_df, on=['Doctor_First_Name', 'Doctor_Last_Name'], how='left')\n",
    "patient_doctor_df = patient_doctor_df[['PatientID', 'DoctorID']]\n",
    "patient_doctor_df.to_csv(\"patient_doctor_3NF.csv\", index=False)\n",
    "patient_doctor_df.head()"
   ]
  },
  {
   "cell_type": "code",
   "execution_count": 125,
   "id": "237d1c7b",
   "metadata": {},
   "outputs": [
    {
     "data": {
      "text/plain": [
       "(55500, 2)"
      ]
     },
     "execution_count": 125,
     "metadata": {},
     "output_type": "execute_result"
    }
   ],
   "source": [
    "patient_doctor_df.shape"
   ]
  },
  {
   "cell_type": "code",
   "execution_count": 126,
   "id": "28746458",
   "metadata": {},
   "outputs": [
    {
     "data": {
      "text/html": [
       "<div>\n",
       "<style scoped>\n",
       "    .dataframe tbody tr th:only-of-type {\n",
       "        vertical-align: middle;\n",
       "    }\n",
       "\n",
       "    .dataframe tbody tr th {\n",
       "        vertical-align: top;\n",
       "    }\n",
       "\n",
       "    .dataframe thead th {\n",
       "        text-align: right;\n",
       "    }\n",
       "</style>\n",
       "<table border=\"1\" class=\"dataframe\">\n",
       "  <thead>\n",
       "    <tr style=\"text-align: right;\">\n",
       "      <th></th>\n",
       "      <th>PatientID</th>\n",
       "      <th>MedicationID</th>\n",
       "      <th>Test Results</th>\n",
       "    </tr>\n",
       "  </thead>\n",
       "  <tbody>\n",
       "    <tr>\n",
       "      <th>0</th>\n",
       "      <td>101</td>\n",
       "      <td>M1</td>\n",
       "      <td>Normal</td>\n",
       "    </tr>\n",
       "    <tr>\n",
       "      <th>1</th>\n",
       "      <td>102</td>\n",
       "      <td>M2</td>\n",
       "      <td>Inconclusive</td>\n",
       "    </tr>\n",
       "    <tr>\n",
       "      <th>2</th>\n",
       "      <td>103</td>\n",
       "      <td>M3</td>\n",
       "      <td>Normal</td>\n",
       "    </tr>\n",
       "    <tr>\n",
       "      <th>3</th>\n",
       "      <td>104</td>\n",
       "      <td>M2</td>\n",
       "      <td>Abnormal</td>\n",
       "    </tr>\n",
       "    <tr>\n",
       "      <th>4</th>\n",
       "      <td>105</td>\n",
       "      <td>M4</td>\n",
       "      <td>Abnormal</td>\n",
       "    </tr>\n",
       "  </tbody>\n",
       "</table>\n",
       "</div>"
      ],
      "text/plain": [
       "   PatientID MedicationID  Test Results\n",
       "0        101           M1        Normal\n",
       "1        102           M2  Inconclusive\n",
       "2        103           M3        Normal\n",
       "3        104           M2      Abnormal\n",
       "4        105           M4      Abnormal"
      ]
     },
     "execution_count": 126,
     "metadata": {},
     "output_type": "execute_result"
    }
   ],
   "source": [
    "patient_medication_df = df1NF[['PatientID', 'Medication', 'Test Results']].drop_duplicates()\n",
    "patient_medication_df = patient_medication_df.merge(medication_df, on='Medication', how='left')\n",
    "patient_medication_df = patient_medication_df[['PatientID', 'MedicationID', 'Test Results']]\n",
    "patient_medication_df.to_csv(\"patient_medication_3NF.csv\", index=False)\n",
    "patient_medication_df.head()"
   ]
  },
  {
   "cell_type": "code",
   "execution_count": 127,
   "id": "4ed5bf7f",
   "metadata": {},
   "outputs": [
    {
     "data": {
      "text/plain": [
       "(55500, 3)"
      ]
     },
     "execution_count": 127,
     "metadata": {},
     "output_type": "execute_result"
    }
   ],
   "source": [
    "patient_medication_df.shape"
   ]
  },
  {
   "cell_type": "code",
   "execution_count": 129,
   "id": "47ff8f31",
   "metadata": {},
   "outputs": [],
   "source": [
    "patient_insurance_df = df1NF[['PatientID', 'Insurance Provider']].drop_duplicates()\n",
    "patient_insurance_df = patient_insurance_df.merge(insurance_df, on='Insurance Provider', how='left')\n",
    "patient_insurance_df = patient_insurance_df[['PatientID', 'InsuranceID']]\n",
    "patient_insurance_df.to_csv(\"patient_insurance_3NF.csv\", index=False)"
   ]
  },
  {
   "cell_type": "code",
   "execution_count": 130,
   "id": "d442d489",
   "metadata": {},
   "outputs": [
    {
     "data": {
      "text/html": [
       "<div>\n",
       "<style scoped>\n",
       "    .dataframe tbody tr th:only-of-type {\n",
       "        vertical-align: middle;\n",
       "    }\n",
       "\n",
       "    .dataframe tbody tr th {\n",
       "        vertical-align: top;\n",
       "    }\n",
       "\n",
       "    .dataframe thead th {\n",
       "        text-align: right;\n",
       "    }\n",
       "</style>\n",
       "<table border=\"1\" class=\"dataframe\">\n",
       "  <thead>\n",
       "    <tr style=\"text-align: right;\">\n",
       "      <th></th>\n",
       "      <th>PatientID</th>\n",
       "      <th>InsuranceID</th>\n",
       "    </tr>\n",
       "  </thead>\n",
       "  <tbody>\n",
       "    <tr>\n",
       "      <th>0</th>\n",
       "      <td>101</td>\n",
       "      <td>I1</td>\n",
       "    </tr>\n",
       "    <tr>\n",
       "      <th>1</th>\n",
       "      <td>102</td>\n",
       "      <td>I2</td>\n",
       "    </tr>\n",
       "    <tr>\n",
       "      <th>2</th>\n",
       "      <td>103</td>\n",
       "      <td>I3</td>\n",
       "    </tr>\n",
       "    <tr>\n",
       "      <th>3</th>\n",
       "      <td>104</td>\n",
       "      <td>I2</td>\n",
       "    </tr>\n",
       "    <tr>\n",
       "      <th>4</th>\n",
       "      <td>105</td>\n",
       "      <td>I3</td>\n",
       "    </tr>\n",
       "  </tbody>\n",
       "</table>\n",
       "</div>"
      ],
      "text/plain": [
       "   PatientID InsuranceID\n",
       "0        101          I1\n",
       "1        102          I2\n",
       "2        103          I3\n",
       "3        104          I2\n",
       "4        105          I3"
      ]
     },
     "execution_count": 130,
     "metadata": {},
     "output_type": "execute_result"
    }
   ],
   "source": [
    "patient_insurance_df.head()"
   ]
  },
  {
   "cell_type": "code",
   "execution_count": null,
   "id": "f2b420ab",
   "metadata": {},
   "outputs": [],
   "source": []
  }
 ],
 "metadata": {
  "kernelspec": {
   "display_name": "Python 3 (ipykernel)",
   "language": "python",
   "name": "python3"
  },
  "language_info": {
   "codemirror_mode": {
    "name": "ipython",
    "version": 3
   },
   "file_extension": ".py",
   "mimetype": "text/x-python",
   "name": "python",
   "nbconvert_exporter": "python",
   "pygments_lexer": "ipython3",
   "version": "3.8.12"
  }
 },
 "nbformat": 4,
 "nbformat_minor": 5
}
